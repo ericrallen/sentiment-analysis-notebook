{
 "cells": [
  {
   "cell_type": "markdown",
   "id": "4d8f29fd",
   "metadata": {},
   "source": [
    "# Sentiment Analysis with ChatGPT\n",
    "\n",
    "Sentiment Analysis is sort of like the \"Hello, world!\" of Natural Language Processing (NLP), but luckily for us, it's a bit more fun than just echoing out a string.\n",
    "\n",
    "This notebook will guide you through analyzing sentiment with ChatGPT and discuss some of the differences between how you can approach this problem with a generative AI like ChatGPT versus how you might have approached this problem in the past.\n",
    "\n",
    "## What is sentiment analysis?\n",
    "\n",
    "Sentiment Analysis is a way of analyzing some text to determine if it's positive, negative, or neutral.\n",
    "\n",
    "This is the kind of thing that's pretty easy for a human who understands the language the text is written in, but it can be hard for a computer to really understand the underlying meaning behind the text.\n",
    "\n",
    "### Examples\n",
    "\n",
    "1. \"I saw that movie.\" - Neutral\n",
    "2. \"I love that movie.\" - Positive\n",
    "3. \"I hate that movie.\" - Negative\n",
    "\n",
    "## How do we analyze sentiment?\n",
    "\n",
    "We'll start with some housekeeping first by making sure that our dependencies are ready.\n",
    "\n",
    "For this demo, we'll start out by exploring a more traditional approach that uses the Python Natural Language Toolkit (NLTK) and then we'll see how our approach might change when we use ChatGPT via the OpenAI SDK instead."
   ]
  },
  {
   "cell_type": "code",
   "execution_count": 1,
   "id": "557e3c67",
   "metadata": {},
   "outputs": [
    {
     "name": "stdout",
     "output_type": "stream",
     "text": [
      "{'name': 'value', 'old': '', 'new': 'T', 'owner': Text(value='T', placeholder='Type something'), 'type': 'change'}\n",
      "Neutral\n",
      "{'name': 'value', 'old': 'T', 'new': 'Th', 'owner': Text(value='Th', placeholder='Type something'), 'type': 'change'}\n",
      "Neutral\n",
      "{'name': 'value', 'old': 'Th', 'new': 'This is ', 'owner': Text(value='This is ', placeholder='Type something'), 'type': 'change'}\n",
      "Neutral\n",
      "{'name': 'value', 'old': 'This is ', 'new': 'This is a te', 'owner': Text(value='This is a te', placeholder='Type something'), 'type': 'change'}\n",
      "Neutral\n",
      "{'name': 'value', 'old': 'This is a te', 'new': 'This is a test', 'owner': Text(value='This is a test', placeholder='Type something'), 'type': 'change'}\n",
      "Neutral\n",
      "{'name': 'value', 'old': 'This is a test', 'new': 'This is a tes', 'owner': Text(value='This is a tes', placeholder='Type something'), 'type': 'change'}\n",
      "Neutral\n",
      "{'name': 'value', 'old': 'This is a tes', 'new': 'This is a te', 'owner': Text(value='This is a te', placeholder='Type something'), 'type': 'change'}\n",
      "Neutral\n",
      "{'name': 'value', 'old': 'This is a te', 'new': 'This is a ', 'owner': Text(value='This is a ', placeholder='Type something'), 'type': 'change'}\n",
      "Neutral\n",
      "{'name': 'value', 'old': 'This is a ', 'new': 'This is a g', 'owner': Text(value='This is a g', placeholder='Type something'), 'type': 'change'}\n",
      "Neutral\n",
      "{'name': 'value', 'old': 'This is a g', 'new': 'This is a go', 'owner': Text(value='This is a go', placeholder='Type something'), 'type': 'change'}\n",
      "Neutral\n",
      "{'name': 'value', 'old': 'This is a go', 'new': 'This is a good', 'owner': Text(value='This is a good', placeholder='Type something'), 'type': 'change'}\n",
      "Positive\n",
      "{'name': 'value', 'old': 'This is a good', 'new': 'This is a good tes', 'owner': Text(value='This is a good tes', placeholder='Type something'), 'type': 'change'}\n",
      "Positive\n",
      "{'name': 'value', 'old': 'This is a good tes', 'new': 'This is a good test', 'owner': Text(value='This is a good test', placeholder='Type something'), 'type': 'change'}\n",
      "Positive\n",
      "{'name': 'value', 'old': 'This is a good test', 'new': '', 'owner': Text(value='', placeholder='Type something'), 'type': 'change'}\n",
      "\n"
     ]
    }
   ],
   "source": [
    "%%capture\n",
    "\n",
    "%pip install openai nltk ipywidgets\n",
    "\n",
    "import os\n",
    "\n",
    "import nltk\n",
    "import ipywidgets as pywidgets\n",
    "\n",
    "from widgets.simple import simpleAnalysisWidget\n",
    "from widgets.config import modelDropdown, apiKeyInput, apiKeyUpdateButton\n",
    "from utils.obfuscate import obfuscateKey\n",
    "\n",
    "nltk.download('vader_lexicon')\n",
    "\n",
    "OPENAI_API_KEY = os.getenv(\"OPENAI_API_KEY\")\n",
    "DISPLAY_KEY = obfuscateKey(OPENAI_API_KEY)"
   ]
  },
  {
   "cell_type": "markdown",
   "id": "a59708fe",
   "metadata": {},
   "source": [
    "## Simple sentiment analysis with NLTK\n",
    "\n",
    "Let's take a look at a simple example of sentiment analysis with `nltk` and VADER.\n",
    "\n",
    "The `SentimentIntensityAnalyzer` returns an object with positive, negative, and neutral scores for the given text as well as a combined `compound` score computed from the other three.\n",
    "\n",
    "For this basic example, we're going to rely on the `compound` score and use a naive rating scale."
   ]
  },
  {
   "cell_type": "code",
   "execution_count": 2,
   "id": "4cec9c00",
   "metadata": {},
   "outputs": [],
   "source": [
    "# import the VADER sentiment analyzer\n",
    "from nltk.sentiment.vader import SentimentIntensityAnalyzer\n",
    "\n",
    "# instantiate the sentiment analyzer\n",
    "analyzer = SentimentIntensityAnalyzer()\n",
    "\n",
    "# analyze the sentiment of a string of text\n",
    "def analyzeSentiment(text):\n",
    "  if not text:\n",
    "    return('')\n",
    "\n",
    "  # use VADER to get the +/- sentiment of the string\n",
    "  sentiment = analyzer.polarity_scores(text)\n",
    "\n",
    "  # map the sentiment to a human readable label\n",
    "  if sentiment['compound'] >= 0.75:\n",
    "    return('Very Positive')\n",
    "  elif sentiment['compound'] >= 0.4:\n",
    "    return('Positive')\n",
    "  elif sentiment['compound'] >= 0.1:\n",
    "    return('Leaning Positive')\n",
    "  elif sentiment['compound'] <= -0.1 and sentiment['compound'] > -0.4:\n",
    "    return('Leaning Negative')\n",
    "  elif sentiment['compound'] <= -0.4 and sentiment['compound'] > -0.75:\n",
    "    return('Negative')\n",
    "  elif sentiment['compound'] <= -0.75:\n",
    "    return('Very Negative')\n",
    "  else:\n",
    "    return('Neutral')"
   ]
  },
  {
   "cell_type": "markdown",
   "id": "15c621be",
   "metadata": {},
   "source": [
    "Now let's test this analyzer with some example strings."
   ]
  },
  {
   "cell_type": "code",
   "execution_count": 3,
   "id": "94cc9f86",
   "metadata": {},
   "outputs": [
    {
     "name": "stdout",
     "output_type": "stream",
     "text": [
      "I love that movie. (Positive)\n",
      "I hate that movie. (Negative)\n",
      "I like that movie. (Leaning Positive)\n",
      "I dislike that movie. (Leaning Negative)\n",
      "I saw that movie. (Neutral)\n"
     ]
    }
   ],
   "source": [
    "# some simple test statements for our analyzer\n",
    "statements = [\n",
    "  'I love that movie.',\n",
    "  'I hate that movie.',\n",
    "  'I like that movie.',\n",
    "  'I dislike that movie.',\n",
    "  'I saw that movie.',\n",
    "]\n",
    "\n",
    "for statement in statements:\n",
    "  print(f\"{statement} ({analyzeSentiment(statement)})\")"
   ]
  },
  {
   "cell_type": "markdown",
   "id": "8c6429f9",
   "metadata": {},
   "source": [
    "We've wired the input below up to the same analyzer function from above. Type in some text and see how the analyzer responds."
   ]
  },
  {
   "cell_type": "code",
   "execution_count": 7,
   "id": "342011fc",
   "metadata": {},
   "outputs": [
    {
     "data": {
      "application/vnd.jupyter.widget-view+json": {
       "model_id": "e17a83ecfb16498ebadd64520da26551",
       "version_major": 2,
       "version_minor": 0
      },
      "text/plain": [
       "Box(children=(Text(value='', placeholder='Type something'), Output()), layout=Layout(align_items='center', dis…"
      ]
     },
     "metadata": {},
     "output_type": "display_data"
    }
   ],
   "source": [
    "# this code cell is just used to display a widget\n",
    "# that uses the analyzeSentiment function we created\n",
    "display(simpleAnalysisWidget)"
   ]
  },
  {
   "cell_type": "markdown",
   "id": "50bbf2a5",
   "metadata": {},
   "source": [
    "## How Sentiment Analysis Works\n",
    "\n",
    "Sentiment analysis, like most text analysis involves a multistep process:\n",
    "\n",
    "1. **Stemming / Lemmatization**: reduces the words in the text to their root forms to simplify comparison between different forms of the same words\n",
    "   1. **Stemming**: removes suffixes as an attempt to reduce words to their root forms\n",
    "   2. **Lemmatization**: uses a morphological analysis of words to reduce them to their root forms\n",
    "2. **Tokenization**: breaks the text into individual units of meaning called tokens\n",
    "3. **Vectorization**: converts the tokens into a id that can be used for comparison\n",
    "4. **Comparison**: compares the tokens to a known set of tokens to determine the sentiment\n",
    "\n",
    "In this case we're taking advantage of an existing model that has been trained to analyze sentiment in text. If we wanted to build our own from scratch, it would be a more complicated process and require training data to feed into the model.\n",
    "\n",
    "With the advent of Generative Pre-Trained Transformer (GPT) models like those that power ChatGPT, and other transformer models that have exploded in popularity since, we can leverage the powerful inference and predictive capabilities of these models to perform sentiment analysis without having to train our own model, and we can even leverage some prompting techniques to quickly teach the model how to perform more unique analyses."
   ]
  },
  {
   "cell_type": "markdown",
   "id": "d164653f",
   "metadata": {},
   "source": [
    "## How ChatGPT works\n",
    "\n",
    "Break down how ChatGPT turns text into tokens and then predicts the most likely tokens to follow the given text so far."
   ]
  },
  {
   "cell_type": "markdown",
   "id": "1dc95505",
   "metadata": {},
   "source": [
    "## Prompt engineering\n",
    "\n",
    "Describe prompt engineering and break down system, user, and assistant prompts"
   ]
  },
  {
   "cell_type": "markdown",
   "id": "eda6a510",
   "metadata": {},
   "source": [
    "## Zero shot and few shot prompting\n",
    "\n",
    "Discuss the differences between few show and zero shot and give some examples"
   ]
  },
  {
   "cell_type": "code",
   "execution_count": 5,
   "id": "12db0c43",
   "metadata": {},
   "outputs": [
    {
     "data": {
      "application/vnd.jupyter.widget-view+json": {
       "model_id": "90ae52bc9f1b4a9ea5f431c3cae13a4e",
       "version_major": 2,
       "version_minor": 0
      },
      "text/plain": [
       "Box(children=(Text(value='sk-I**********yeC3', description='OpenAI API Key', placeholder='Enter your OpenAI AP…"
      ]
     },
     "metadata": {},
     "output_type": "display_data"
    }
   ],
   "source": [
    "# this code cell is just used to display a widget\n",
    "# for us to configure the OpenAI API and to update\n",
    "# your API key if you need to change it\n",
    "apiKeyInput.value = obfuscateKey(OPENAI_API_KEY)\n",
    "\n",
    "def updateApiKey(event):\n",
    "  global OPENAI_API_KEY\n",
    "\n",
    "  # store the updated key in our global variable\n",
    "  OPENAI_API_KEY = apiKeyInput.value\n",
    "\n",
    "  # obfuscate the displayed key\n",
    "  apiKeyInput.value = obfuscateKey(OPENAI_API_KEY)\n",
    "\n",
    "\n",
    "openAiConfigWidget = pywidgets.Box([apiKeyInput, apiKeyUpdateButton, modelDropdown], layout=pywidgets.Layout(display='flex', flex_direction='column', align_items='center', width='100%'))\n",
    "\n",
    "apiKeyUpdateButton.on_click(updateApiKey)\n",
    "\n",
    "display(openAiConfigWidget)"
   ]
  },
  {
   "cell_type": "code",
   "execution_count": 6,
   "id": "3c237a87",
   "metadata": {
    "executionInfo": {
     "elapsed": 238,
     "status": "ok",
     "timestamp": 1694090931628,
     "user": {
      "displayName": "Matthias Kraft",
      "userId": "07587708083169164935"
     },
     "user_tz": -120
    },
    "id": "3c237a87"
   },
   "outputs": [],
   "source": [
    "# def get_completion(prompt, model=model.value):\n",
    "#     messages = [{\"role\": \"user\", \"content\": prompt}]\n",
    "\n",
    "#     response = openai.ChatCompletion.create(\n",
    "#         model=model,\n",
    "#         messages=messages,\n",
    "#         temperature=0, # this is the degree of randomness of the model's output\n",
    "#     )\n",
    "\n",
    "#     return response.choices[0].message[\"content\"]"
   ]
  }
 ],
 "metadata": {
  "colab": {
   "provenance": []
  },
  "kernelspec": {
   "display_name": "Python 3 (ipykernel)",
   "language": "python",
   "name": "python3"
  },
  "language_info": {
   "codemirror_mode": {
    "name": "ipython",
    "version": 3
   },
   "file_extension": ".py",
   "mimetype": "text/x-python",
   "name": "python",
   "nbconvert_exporter": "python",
   "pygments_lexer": "ipython3",
   "version": "3.11.2"
  }
 },
 "nbformat": 4,
 "nbformat_minor": 5
}
